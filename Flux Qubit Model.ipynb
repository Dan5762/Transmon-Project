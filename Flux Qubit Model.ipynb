{
 "cells": [
  {
   "cell_type": "code",
   "execution_count": 3,
   "id": "ccbc2188-f062-44d7-a685-697902f1100a",
   "metadata": {},
   "outputs": [],
   "source": [
    "import numpy as np\n",
    "import matplotlib.pyplot as plt\n",
    "import scipy as sp\n",
    "import scipy.linalg\n",
    "\n",
    "from tqdm import tqdm"
   ]
  },
  {
   "cell_type": "markdown",
   "id": "133dad72-fc6b-4043-ae30-d3f71df466e9",
   "metadata": {},
   "source": [
    "# Explicit Approach"
   ]
  },
  {
   "cell_type": "code",
   "execution_count": 4,
   "id": "7c72146e-8dec-46bd-b2a0-ed0eaaf71f12",
   "metadata": {},
   "outputs": [],
   "source": [
    "class System:\n",
    "    \n",
    "    def __init__(self, EJ=121e9, EC=2.4e9, ng=0.5, flux=0, ncut=10):\n",
    "        self.h = 6.626e-34\n",
    "        self.hbar = 1.055e-34\n",
    "        self.e_charge = 1.60218e-19\n",
    "        self.flux_quanta = self.h / (2 * self.e_charge)\n",
    "        \n",
    "        self.EJ = EJ * self.h                      # Josephson energy\n",
    "        self.EC = EC * self.h                      # Josephson capacitance energy\n",
    "        self.CJ = self.e_charge**2 / (4 * self.EC) # Josephson capacitance\n",
    "        self.ng = ng                               # Reduced gate charge\n",
    "        self.flux = flux * self.flux_quanta        # Flux through qubit\n",
    "        self.ncut = ncut                           # Cut-off threshold for number basis\n",
    "        \n",
    "        self.init_operators()\n",
    "    \n",
    "    def init_operators(self):\n",
    "        self.I_cb = np.diag(np.ones(2 * self.ncut + 1))   # Identity for qubit (charge basis)\n",
    "        \n",
    "        self.q_op_cb = np.diag(2 * self.e_charge * np.arange(-self.ncut, self.ncut + 1, dtype=np.complex_))               # Charge operator (charge basis)\n",
    "        self.ng_op_cb = 2 * self.e_charge * self.ng * self.I_cb\n",
    "        self.e_iphi_op_cb = np.diag(np.ones(2 * self.ncut, dtype=np.complex_), k=1)                                       # e^{i \\phi} operator (charge basis)\n",
    "    \n",
    "    def hc(self, state):\n",
    "        return np.conjugate(state).T\n",
    "        \n",
    "    def kin_mat(self):\n",
    "        self.init_operators()\n",
    "        kin_mat = (2 * self.CJ)**-1 * (self.q_op_cb - self.ng_op_cb) @ (self.q_op_cb - self.ng_op_cb)\n",
    "\n",
    "        return kin_mat\n",
    "\n",
    "    def pot_mat(self):\n",
    "        self.init_operators()\n",
    "        pot_mat = -self.EJ * (self.e_iphi_op_cb + self.e_iphi_op_cb.T)\n",
    "        \n",
    "        return pot_mat\n",
    "\n",
    "    def get_H(self):\n",
    "        self.H = self.kin_mat() + self.pot_mat()\n",
    "        \n",
    "        return self.H\n",
    "    \n",
    "    def diagonalise(self, update=False, N=1):\n",
    "        if update:\n",
    "            self.get_H()\n",
    "        else:\n",
    "            try:\n",
    "                self.H\n",
    "            except AttributeError:\n",
    "                self.get_H()\n",
    "        self.evals, self.evecs = sp.linalg.eigh(\n",
    "            self.H, eigvals=(0, N), eigvals_only=False\n",
    "        )\n",
    "        self.evecs = self.evecs.T\n",
    "        \n",
    "        return self.evals, self.evecs\n",
    "    \n",
    "    def init_qubit_states(self, update=False):\n",
    "        if update:\n",
    "            self.diagonalise(update=True)\n",
    "        else:\n",
    "            try:\n",
    "                self.evecs\n",
    "            except AttributeError:\n",
    "                self.diagonalise()\n",
    "\n",
    "        self.qubit_0 = self.evecs[0]\n",
    "        self.qubit_1 = self.evecs[1]\n",
    "        self.qubit_m = 2**-0.5 * (self.qubit_0 - self.qubit_1)\n",
    "        self.qubit_p = 2**-0.5 * (self.qubit_0 + self.qubit_1)"
   ]
  },
  {
   "cell_type": "markdown",
   "id": "7aa50cf5-344c-4717-9b49-a08cddd55e96",
   "metadata": {},
   "source": [
    "## Varying $\\text{n}_\\text{g}$"
   ]
  },
  {
   "cell_type": "code",
   "execution_count": 11,
   "id": "0c4d3f85-490d-448b-845c-24b0e7ca9802",
   "metadata": {},
   "outputs": [
    {
     "name": "stderr",
     "output_type": "stream",
     "text": [
      "100%|████████████████████████████████████████| 100/100 [00:00<00:00, 358.61it/s]\n"
     ]
    }
   ],
   "source": [
    "ngs = np.linspace(0, 1, 100)\n",
    "E_0, E_1, E_2 = [], [], []\n",
    "\n",
    "system = System(ncut=20, EJ=1, EC=2, ng=0.5)\n",
    "\n",
    "evals, evecs = system.diagonalise(N=3, update=True)\n",
    "E10 = evals[1] - evals[0]\n",
    "\n",
    "for ng in tqdm(ngs):\n",
    "    system.ng = ng\n",
    "    \n",
    "    evals, evecs = system.diagonalise(N=2, update=True)\n",
    "    \n",
    "    E_0.append(evals[0] / E10)\n",
    "    E_1.append(evals[1] / E10)\n",
    "    E_2.append(evals[2] / E10)"
   ]
  },
  {
   "cell_type": "code",
   "execution_count": 12,
   "id": "905a3487-43ae-4abb-94e6-dd351979133a",
   "metadata": {},
   "outputs": [
    {
     "data": {
      "image/png": "[encoded data removed]",
      "text/plain": [
       "<Figure size 432x288 with 1 Axes>"
      ]
     },
     "metadata": {
      "needs_background": "light"
     },
     "output_type": "display_data"
    }
   ],
   "source": [
    "plt.plot(ngs, E_0, label='E0/E01')\n",
    "plt.plot(ngs, E_1, label='E1/E01')\n",
    "plt.plot(ngs, E_2, label='E2/E01')\n",
    "plt.xlabel('n_g')\n",
    "plt.legend()\n",
    "plt.show()"
   ]
  }
 ],
 "metadata": {
  "kernelspec": {
   "display_name": "Python [conda env:py39] *",
   "language": "python",
   "name": "conda-env-py39-py"
  },
  "language_info": {
   "codemirror_mode": {
    "name": "ipython",
    "version": 3
   },
   "file_extension": ".py",
   "mimetype": "text/x-python",
   "name": "python",
   "nbconvert_exporter": "python",
   "pygments_lexer": "ipython3",
   "version": "3.9.7"
  }
 },
 "nbformat": 4,
 "nbformat_minor": 5
}
