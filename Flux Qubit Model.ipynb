{
 "cells": [
  {
   "cell_type": "code",
   "execution_count": 70,
   "id": "ccbc2188-f062-44d7-a685-697902f1100a",
   "metadata": {},
   "outputs": [],
   "source": [
    "import numpy as np\n",
    "import matplotlib.pyplot as plt\n",
    "import scipy as sp\n",
    "import scipy.linalg\n",
    "\n",
    "from tqdm import tqdm\n",
    "\n",
    "plt.style.use('science')"
   ]
  },
  {
   "cell_type": "markdown",
   "id": "133dad72-fc6b-4043-ae30-d3f71df466e9",
   "metadata": {},
   "source": [
    "# Explicit Approach"
   ]
  },
  {
   "cell_type": "code",
   "execution_count": 71,
   "id": "7c72146e-8dec-46bd-b2a0-ed0eaaf71f12",
   "metadata": {
    "tags": []
   },
   "outputs": [],
   "source": [
    "class System:\n",
    "    \n",
    "    def __init__(self, EJ=2, EC=2, ng=0.5, flux=0, ncut=10):\n",
    "        self.EJ = EJ                               # Josephson energy\n",
    "        self.EC = EC                               # Josephson capacitance energy\n",
    "        self.ng = ng                               # Reduced gate charge\n",
    "        self.flux = flux                           # Flux through qubit\n",
    "        self.ncut = ncut                           # Cut-off threshold for number basis\n",
    "        \n",
    "        self.init_operators()\n",
    "        \n",
    "    def _print_params(self):\n",
    "        print(f'EJ:    {self.EJ}')\n",
    "        print(f'EC:    {self.EC}')\n",
    "        print(f'ng:    {self.ng}')\n",
    "        print(f'flux:  {self.flux}')\n",
    "    \n",
    "    def init_operators(self):\n",
    "        self.I_cb = np.diag(np.ones(2 * self.ncut + 1))   # Identity for qubit (charge basis)\n",
    "        \n",
    "        self.n_op_cb = np.diag(np.arange(-self.ncut, self.ncut + 1, dtype=np.complex_))               # Charge operator (charge basis)\n",
    "        self.ng_op_cb = self.ng * self.I_cb\n",
    "        self.e_iphi_op_cb = np.diag(np.ones(2 * self.ncut, dtype=np.complex_), k=1)                                       # e^{i \\phi} operator (charge basis)\n",
    "    \n",
    "    def hc(self, state):\n",
    "        return np.conjugate(state).T\n",
    "        \n",
    "    def kin_mat(self):\n",
    "        self.init_operators()\n",
    "        kin_mat = self.EC * (self.n_op_cb - self.ng_op_cb) @ (self.n_op_cb - self.ng_op_cb)\n",
    "\n",
    "        return kin_mat\n",
    "\n",
    "    def pot_mat(self):\n",
    "        self.init_operators()\n",
    "        pot_mat = -self.EJ * (self.e_iphi_op_cb + self.e_iphi_op_cb.T)\n",
    "        \n",
    "        return pot_mat\n",
    "\n",
    "    def get_H(self):\n",
    "        self.H = self.kin_mat() + self.pot_mat()\n",
    "        \n",
    "        return self.H\n",
    "    \n",
    "    def diagonalise(self, update=False, N=1):\n",
    "        if update:\n",
    "            self.get_H()\n",
    "        else:\n",
    "            try:\n",
    "                self.H\n",
    "            except AttributeError:\n",
    "                self.get_H()\n",
    "        self.evals, self.evecs = sp.linalg.eigh(\n",
    "            self.H, eigvals=(0, N), eigvals_only=False\n",
    "        )\n",
    "        self.evecs = self.evecs.T\n",
    "        \n",
    "        return self.evals, self.evecs\n",
    "    \n",
    "    def init_qubit_states(self, update=False):\n",
    "        if update:\n",
    "            self.diagonalise(update=True)\n",
    "        else:\n",
    "            try:\n",
    "                self.evecs\n",
    "            except AttributeError:\n",
    "                self.diagonalise()\n",
    "\n",
    "        self.qubit_0 = self.evecs[0]\n",
    "        self.qubit_1 = self.evecs[1]\n",
    "        self.qubit_m = 2**-0.5 * (self.qubit_0 - self.qubit_1)\n",
    "        self.qubit_p = 2**-0.5 * (self.qubit_0 + self.qubit_1)"
   ]
  },
  {
   "cell_type": "markdown",
   "id": "7aa50cf5-344c-4717-9b49-a08cddd55e96",
   "metadata": {},
   "source": [
    "## Varying $\\text{n}_\\text{g}$"
   ]
  },
  {
   "cell_type": "code",
   "execution_count": 108,
   "id": "0c4d3f85-490d-448b-845c-24b0e7ca9802",
   "metadata": {},
   "outputs": [
    {
     "name": "stderr",
     "output_type": "stream",
     "text": [
      "100%|███████████████████████████████████████| 100/100 [00:00<00:00, 1559.82it/s]\n"
     ]
    }
   ],
   "source": [
    "ngs = np.linspace(-2, 2, 100)\n",
    "E_0, E_1, E_2 = [], [], []\n",
    "\n",
    "sys = System(ncut=20, EJ=1, EC=1, ng=0.5)\n",
    "\n",
    "evals, evecs = sys.diagonalise(N=2, update=True)\n",
    "\n",
    "E10 = evals[1] - evals[0]\n",
    "\n",
    "for ng in tqdm(ngs):\n",
    "    sys.ng = ng\n",
    "    \n",
    "    evals, evecs = sys.diagonalise(N=2, update=True)\n",
    "    \n",
    "    E_0.append(evals[0] / E10)\n",
    "    E_1.append(evals[1] / E10)\n",
    "    E_2.append(evals[2] / E10)"
   ]
  },
  {
   "cell_type": "code",
   "execution_count": 112,
   "id": "905a3487-43ae-4abb-94e6-dd351979133a",
   "metadata": {},
   "outputs": [
    {
     "data": {
      "image/png": "[encoded data removed]",
      "text/plain": [
       "<Figure size 252x189 with 1 Axes>"
      ]
     },
     "metadata": {
      "needs_background": "light"
     },
     "output_type": "display_data"
    }
   ],
   "source": [
    "zero_E = min(E_0)\n",
    "\n",
    "plt.plot(ngs, [val - zero_E for val in E_0], label='E0/Ec')\n",
    "plt.plot(ngs, [val - zero_E for val in E_1], label='E1/Ec')\n",
    "plt.plot(ngs, [val - zero_E for val in E_2], label='E2/Ec')\n",
    "plt.xlabel('n_g')\n",
    "plt.legend()\n",
    "plt.show()"
   ]
  },
  {
   "cell_type": "code",
   "execution_count": 142,
   "id": "934eab1c-0984-4941-84c5-a3e35788dfa7",
   "metadata": {},
   "outputs": [
    {
     "name": "stderr",
     "output_type": "stream",
     "text": [
      "100%|███████████████████████████████████| 10000/10000 [00:04<00:00, 2385.75it/s]\n",
      "100%|███████████████████████████████████| 10000/10000 [00:04<00:00, 2405.57it/s]\n",
      "100%|███████████████████████████████████| 10000/10000 [00:04<00:00, 2383.89it/s]\n",
      "100%|███████████████████████████████████| 10000/10000 [00:04<00:00, 2403.17it/s]\n"
     ]
    }
   ],
   "source": [
    "ngs = np.linspace(-0.25, 1.25, 10000)\n",
    "Ejs = [0.1, 0.5, 1, 10]\n",
    "E_0, E_1, E_2 = {}, {}, {}\n",
    "\n",
    "sys = System(ncut=20, EC=1)\n",
    "\n",
    "for Ej in Ejs:\n",
    "    sys.EJ = Ej\n",
    "    E_0[Ej], E_1[Ej], E_2[Ej] = [], [], []\n",
    "    \n",
    "    sys.ng=0.5\n",
    "    evals, evecs = sys.diagonalise(N=2, update=True)\n",
    "    E10 = evals[1] - evals[0]\n",
    "\n",
    "    for ng in tqdm(ngs):\n",
    "        sys.ng = ng\n",
    "\n",
    "        evals, evecs = sys.diagonalise(N=2, update=True)\n",
    "\n",
    "        E_0[sys.EJ].append(evals[0] / E10)\n",
    "        E_1[sys.EJ].append(evals[1] / E10)\n",
    "        E_2[sys.EJ].append(evals[2] / E10)"
   ]
  },
  {
   "cell_type": "code",
   "execution_count": 143,
   "id": "486e085d-d1df-46b5-b55f-646aae84f4e2",
   "metadata": {},
   "outputs": [
    {
     "data": {
      "image/png": "[encoded data removed]",
      "text/plain": [
       "<Figure size 252x189 with 1 Axes>"
      ]
     },
     "metadata": {
      "needs_background": "light"
     },
     "output_type": "display_data"
    },
    {
     "data": {
      "image/png": "[encoded data removed]",
      "text/plain": [
       "<Figure size 252x189 with 1 Axes>"
      ]
     },
     "metadata": {
      "needs_background": "light"
     },
     "output_type": "display_data"
    },
    {
     "data": {
      "image/png": "[encoded data removed]",
      "text/plain": [
       "<Figure size 252x189 with 1 Axes>"
      ]
     },
     "metadata": {
      "needs_background": "light"
     },
     "output_type": "display_data"
    },
    {
     "data": {
      "image/png": "[encoded data removed]",
      "text/plain": [
       "<Figure size 252x189 with 1 Axes>"
      ]
     },
     "metadata": {
      "needs_background": "light"
     },
     "output_type": "display_data"
    }
   ],
   "source": [
    "for Ej in Ejs:\n",
    "    zero_E = min(E_0[Ej])\n",
    "    plt.plot(ngs, [val - zero_E for val in E_0[Ej]], label='0')\n",
    "    plt.plot(ngs, [val - zero_E for val in E_1[Ej]], label='1')\n",
    "    plt.plot(ngs, [val - zero_E for val in E_2[Ej]], label='2')\n",
    "    plt.xlabel('$n_g$')\n",
    "    plt.ylabel('$$E_m / E_{01}$$')\n",
    "    plt.legend(title='Mode')\n",
    "    plt.savefig(f'figures/General/EJ({Ej}) EC({sys.EC}) spectrum.png', dpi=300)\n",
    "    plt.show()"
   ]
  },
  {
   "cell_type": "code",
   "execution_count": null,
   "id": "0a812a3f-8e0a-4279-9ad3-70dba56143d9",
   "metadata": {},
   "outputs": [],
   "source": []
  }
 ],
 "metadata": {
  "kernelspec": {
   "display_name": "Python [conda env:py39] *",
   "language": "python",
   "name": "conda-env-py39-py"
  },
  "language_info": {
   "codemirror_mode": {
    "name": "ipython",
    "version": 3
   },
   "file_extension": ".py",
   "mimetype": "text/x-python",
   "name": "python",
   "nbconvert_exporter": "python",
   "pygments_lexer": "ipython3",
   "version": "3.9.7"
  }
 },
 "nbformat": 4,
 "nbformat_minor": 5
}
