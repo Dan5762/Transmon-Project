{
 "cells": [
  {
   "cell_type": "code",
   "execution_count": 9,
   "id": "cbfdc875-fed6-49d7-9eb3-0575905ffce8",
   "metadata": {},
   "outputs": [],
   "source": [
    "from sympy import *\n",
    "from sympy.physics.secondquant import *\n",
    "from sympy.abc import x, y, n"
   ]
  },
  {
   "cell_type": "code",
   "execution_count": 78,
   "id": "2eceb33e-1399-4857-91d3-d65566ac7c7b",
   "metadata": {},
   "outputs": [],
   "source": [
    "e = Symbol('e')\n",
    "\n",
    "Zx = Symbol('Z_x')\n",
    "Zy = Symbol('Z_y')\n",
    "\n",
    "EJ1 = Symbol('E_{J1}')\n",
    "EJ2 = Symbol('E_{J2}')\n",
    "\n",
    "Cc = Symbol('C_c')\n",
    "C1 = Symbol('C_1')\n",
    "C2 = Symbol('C_2')\n",
    "CJ1 = Symbol('C_{J1}')\n",
    "CJ2 = Symbol('C_{J2}')\n",
    "\n",
    "C = Matrix([[C1 + CJ1 + Cc, -Cc], [-Cc, C2 + CJ2 + Cc]])\n",
    "C_inv = C**-1"
   ]
  },
  {
   "cell_type": "code",
   "execution_count": 125,
   "id": "9a75a370-6b53-45ce-bcd7-cbcfb95cde47",
   "metadata": {},
   "outputs": [
    {
     "ename": "NotImplementedError",
     "evalue": "",
     "output_type": "error",
     "traceback": [
      "\u001b[0;31m---------------------------------------------------------------------------\u001b[0m",
      "\u001b[0;31mNotImplementedError\u001b[0m                       Traceback (most recent call last)",
      "Input \u001b[0;32mIn [125]\u001b[0m, in \u001b[0;36m<cell line: 1>\u001b[0;34m()\u001b[0m\n\u001b[0;32m----> 1\u001b[0m \u001b[43mNO\u001b[49m\u001b[43m(\u001b[49m\u001b[43mAnnihilateBoson\u001b[49m\u001b[43m(\u001b[49m\u001b[43mx\u001b[49m\u001b[43m)\u001b[49m\u001b[38;5;241;43m*\u001b[39;49m\u001b[43mCreateBoson\u001b[49m\u001b[43m(\u001b[49m\u001b[43mx\u001b[49m\u001b[43m)\u001b[49m\u001b[43m)\u001b[49m\n",
      "File \u001b[0;32m~/opt/anaconda3/envs/py39/lib/python3.9/site-packages/sympy/physics/secondquant.py:1919\u001b[0m, in \u001b[0;36mNO.__new__\u001b[0;34m(cls, arg)\u001b[0m\n\u001b[1;32m   1917\u001b[0m \u001b[38;5;66;03m# We assume that the user don't mix B and F operators\u001b[39;00m\n\u001b[1;32m   1918\u001b[0m \u001b[38;5;28;01mif\u001b[39;00m \u001b[38;5;28misinstance\u001b[39m(seq[\u001b[38;5;241m0\u001b[39m], BosonicOperator):\n\u001b[0;32m-> 1919\u001b[0m     \u001b[38;5;28;01mraise\u001b[39;00m \u001b[38;5;167;01mNotImplementedError\u001b[39;00m\n\u001b[1;32m   1921\u001b[0m \u001b[38;5;28;01mtry\u001b[39;00m:\n\u001b[1;32m   1922\u001b[0m     newseq, sign \u001b[38;5;241m=\u001b[39m _sort_anticommuting_fermions(seq)\n",
      "\u001b[0;31mNotImplementedError\u001b[0m: "
     ]
    }
   ],
   "source": [
    "NO(AnnihilateBoson(x)*CreateBoson(x))"
   ]
  },
  {
   "cell_type": "code",
   "execution_count": 92,
   "id": "ceefa9bd-9fc9-4e93-bc58-004f11d6cb6f",
   "metadata": {},
   "outputs": [
    {
     "data": {
      "text/latex": [
       "$\\displaystyle \\cos{\\left(0.707106781186548 Z_{x}^{0.5} \\left(b_{x} + {b^\\dagger_{x}}\\right) \\right)}$"
      ],
      "text/plain": [
       "cos(0.707106781186548*Z_x**0.5*(AnnihilateBoson(x) + CreateBoson(x)))"
      ]
     },
     "execution_count": 92,
     "metadata": {},
     "output_type": "execute_result"
    }
   ],
   "source": [
    "q_x = ((-2*e*1j)/(2 * Zx)**0.5) * (AnnihilateBoson(x) - CreateBoson(x))\n",
    "q_y = ((-2*e*1j)/(2 * Zy)**0.5) * (AnnihilateBoson(y) - CreateBoson(y))\n",
    "phi_x = (Zx * 0.5)**0.5 * (AnnihilateBoson(x) + CreateBoson(x))\n",
    "phi_y = (Zy * 0.5)**0.5 * (AnnihilateBoson(y) + CreateBoson(y))\n",
    "\n",
    "cos_phi_x = cos(phi_x)\n",
    "cos_phi_y = cos(phi_y)\n",
    "cos_phi_x"
   ]
  },
  {
   "cell_type": "code",
   "execution_count": 83,
   "id": "86d689b3-3f01-498e-924f-cc7f4913f051",
   "metadata": {},
   "outputs": [],
   "source": [
    "q = Matrix([q_x, q_y])\n",
    "T = (q.T * C_inv * q)[0]\n",
    "\n",
    "V = -EJ1 * (1 - cos_phi_x) - EJ2 * (1 - cos_phi_y)\n",
    "\n",
    "H = T + V"
   ]
  },
  {
   "cell_type": "code",
   "execution_count": 112,
   "id": "b7ce32e1-fc50-45b8-acc9-277b4375b3a4",
   "metadata": {},
   "outputs": [
    {
     "data": {
      "text/latex": [
       "$\\displaystyle 1 - \\frac{e^{2}}{2} + \\frac{e^{4}}{24} - \\frac{e^{6}}{720} + \\frac{e^{8}}{40320} + O\\left(e^{10}\\right)$"
      ],
      "text/plain": [
       "1 - e**2/2 + e**4/24 - e**6/720 + e**8/40320 + O(e**10)"
      ]
     },
     "execution_count": 112,
     "metadata": {},
     "output_type": "execute_result"
    }
   ],
   "source": [
    "cos(x).series(x, n=10).subs(x, e)"
   ]
  },
  {
   "cell_type": "code",
   "execution_count": null,
   "id": "93c20ff9-409d-4cf0-a898-75917f6cb99e",
   "metadata": {},
   "outputs": [],
   "source": []
  },
  {
   "cell_type": "code",
   "execution_count": null,
   "id": "ff563b17-4aff-4ae9-a96e-821068577a6a",
   "metadata": {},
   "outputs": [],
   "source": []
  }
 ],
 "metadata": {
  "kernelspec": {
   "display_name": "Python [conda env:py39] *",
   "language": "python",
   "name": "conda-env-py39-py"
  },
  "language_info": {
   "codemirror_mode": {
    "name": "ipython",
    "version": 3
   },
   "file_extension": ".py",
   "mimetype": "text/x-python",
   "name": "python",
   "nbconvert_exporter": "python",
   "pygments_lexer": "ipython3",
   "version": "3.9.7"
  }
 },
 "nbformat": 4,
 "nbformat_minor": 5
}
