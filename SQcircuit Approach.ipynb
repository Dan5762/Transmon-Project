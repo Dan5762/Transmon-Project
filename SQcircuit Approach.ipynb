{
 "cells": [
  {
   "cell_type": "code",
   "execution_count": 33,
   "id": "da173817-2c8f-44db-b283-9c279a089c34",
   "metadata": {},
   "outputs": [],
   "source": [
    "import SQcircuit as sq\n",
    "import numpy as np\n",
    "import matplotlib.pyplot as plt\n",
    "import qutip as qt\n",
    "import scipy as sp\n",
    "from tqdm import tqdm"
   ]
  },
  {
   "cell_type": "markdown",
   "id": "9907a5f9-835b-47ab-9a2d-991e1a11c023",
   "metadata": {},
   "source": [
    "## Initialise Constants"
   ]
  },
  {
   "cell_type": "code",
   "execution_count": 34,
   "id": "d469f180-5101-4c0a-b206-e32ff5ae65ff",
   "metadata": {},
   "outputs": [],
   "source": [
    "h = 6.626e-34\n",
    "hbar = 1.055e-34\n",
    "e_charge = 1.60218e-19\n",
    "flux_quanta = h / (2 * e_charge)"
   ]
  },
  {
   "cell_type": "code",
   "execution_count": 2,
   "id": "867ce999-cbee-4e3f-9212-409354ec925e",
   "metadata": {},
   "outputs": [],
   "source": [
    "loop1 = sq.Loop()\n",
    "loop2 = sq.Loop()"
   ]
  },
  {
   "cell_type": "code",
   "execution_count": 3,
   "id": "2888a9dd-6f33-4615-9ec1-3df6ce0fc68b",
   "metadata": {},
   "outputs": [],
   "source": [
    "EJ_val = 121\n",
    "CJ_val = 8\n",
    "Cr_val = 100\n",
    "Cc_val = 8\n",
    "Lr_val = 10\n",
    "alpha = 0.4\n",
    "ng_val = 0.5\n",
    "flux_val = 0"
   ]
  },
  {
   "cell_type": "code",
   "execution_count": 4,
   "id": "86ac3e71-2eba-4e8a-81b0-f258ae9ee940",
   "metadata": {},
   "outputs": [],
   "source": [
    "# define the circuit elements\n",
    "Cc = sq.Capacitor(Cc_val, unit='fF')\n",
    "Cr = sq.Capacitor(Cr_val, unit='fF')\n",
    "Lr = sq.Inductor(Lr_val, unit='nH', loops=[loop2])\n",
    "JJ = sq.Junction(EJ_val, 'GHz', loops=[loop1])\n",
    "alpha_JJ = sq.Junction(alpha * EJ_val, 'GHz', loops=[loop1])\n",
    "CJ = sq.Capacitor(CJ_val, unit='fF')\n",
    "alpha_CJ = sq.Capacitor(alpha * CJ_val, unit='fF')"
   ]
  },
  {
   "cell_type": "code",
   "execution_count": 5,
   "id": "dbc2c21d-1426-4e33-8d3e-a93abeb3dc8a",
   "metadata": {},
   "outputs": [],
   "source": [
    "# define the circuit\n",
    "qubit_elements = {\n",
    "    (0, 1): [alpha_JJ, alpha_CJ],\n",
    "    (1, 2): [JJ, CJ],\n",
    "    (2, 3): [JJ, CJ],\n",
    "    (3, 0): [alpha_JJ, alpha_CJ],\n",
    "}\n",
    "circuit_elements = {\n",
    "    (0, 1): [alpha_JJ, alpha_CJ],\n",
    "    (1, 2): [JJ, CJ],\n",
    "    (2, 3): [JJ, CJ],\n",
    "    (3, 0): [alpha_JJ, alpha_CJ],\n",
    "    (0, 4): [Cc],\n",
    "    (4, 4): [Lr, Cr],\n",
    "}\n",
    "\n",
    "qubit_cr = sq.Circuit(qubit_elements, flux_dist='all')\n",
    "cr = sq.Circuit(circuit_elements, flux_dist='all')"
   ]
  },
  {
   "cell_type": "code",
   "execution_count": 6,
   "id": "2b715acf-2f15-40a8-8843-3d5abc2e3b3d",
   "metadata": {
    "collapsed": true,
    "jupyter": {
     "outputs_hidden": true
    },
    "tags": []
   },
   "outputs": [
    {
     "data": {
      "text/latex": [
       "$\\hat{H} =~E_{C_{11}}(\\hat{n}_1-n_{g_{1}})^2~+~E_{C_{12}}(\\hat{n}_1-n_{g_{1}})(\\hat{n}_2-n_{g_{2}})~+~E_{C_{13}}(\\hat{n}_1-n_{g_{1}})(\\hat{n}_3-n_{g_{3}})~+~E_{C_{22}}(\\hat{n}_2-n_{g_{2}})^2~+~E_{C_{23}}(\\hat{n}_2-n_{g_{2}})(\\hat{n}_3-n_{g_{3}})~+~E_{C_{33}}(\\hat{n}_3-n_{g_{3}})^2~+~E_{J_{1}}\\cos(\\hat{\\varphi}_1+0.25\\varphi_{\\text{ext}_{1}})~+~E_{J_{2}}\\cos(\\hat{\\varphi}_2-0.25\\varphi_{\\text{ext}_{1}})~+~E_{J_{3}}\\cos(\\hat{\\varphi}_3-0.25\\varphi_{\\text{ext}_{1}})~+~E_{J_{4}}\\cos(\\hat{\\varphi}_1-\\hat{\\varphi}_2-\\hat{\\varphi}_3-0.25\\varphi_{\\text{ext}_{1}})~$"
      ],
      "text/plain": [
       "<IPython.core.display.Latex object>"
      ]
     },
     "metadata": {},
     "output_type": "display_data"
    },
    {
     "data": {
      "text/latex": [
       "$------------------------------------------------------------$"
      ],
      "text/plain": [
       "<IPython.core.display.Latex object>"
      ]
     },
     "metadata": {},
     "output_type": "display_data"
    },
    {
     "data": {
      "text/latex": [
       "$\\text{mode}~1:~~~~~~~~~~~\\text{charge}~~~~~~~~~~~~~~~~n_{g_{1}}~=~0$"
      ],
      "text/plain": [
       "<IPython.core.display.Latex object>"
      ]
     },
     "metadata": {},
     "output_type": "display_data"
    },
    {
     "data": {
      "text/latex": [
       "$\\text{mode}~2:~~~~~~~~~~~\\text{charge}~~~~~~~~~~~~~~~~n_{g_{2}}~=~0$"
      ],
      "text/plain": [
       "<IPython.core.display.Latex object>"
      ]
     },
     "metadata": {},
     "output_type": "display_data"
    },
    {
     "data": {
      "text/latex": [
       "$\\text{mode}~3:~~~~~~~~~~~\\text{charge}~~~~~~~~~~~~~~~~n_{g_{3}}~=~0$"
      ],
      "text/plain": [
       "<IPython.core.display.Latex object>"
      ]
     },
     "metadata": {},
     "output_type": "display_data"
    },
    {
     "data": {
      "text/latex": [
       "$------------------------------------------------------------$"
      ],
      "text/plain": [
       "<IPython.core.display.Latex object>"
      ]
     },
     "metadata": {},
     "output_type": "display_data"
    },
    {
     "data": {
      "text/latex": [
       "$\\text{parameters}:~~~~~~~~~~~E_{C_{11}}~=~15.565~~~~~~~~~~~E_{C_{12}}~=~6.918~~~~~~~~~~~E_{C_{13}}~=~6.918~~~~~~~~~~~E_{C_{22}}~=~8.302~~~~~~~~~~~E_{C_{23}}~=~-2.767~~~~~~~~~~~E_{C_{33}}~=~8.302~~~~~~~~~~~E_{J_{1}}~=~48.4~~~~~~~~~~~E_{J_{2}}~=~121.0~~~~~~~~~~~E_{J_{3}}~=~121.0~~~~~~~~~~~E_{J_{4}}~=~48.4~~~~~~~~~~~$"
      ],
      "text/plain": [
       "<IPython.core.display.Latex object>"
      ]
     },
     "metadata": {},
     "output_type": "display_data"
    },
    {
     "data": {
      "text/latex": [
       "$\\text{loops}:~~~~~~~~~~~~~~~~~~~~\\varphi_{\\text{ext}_{1}}/2\\pi~=~0.0~~~~~~~~~~~$"
      ],
      "text/plain": [
       "<IPython.core.display.Latex object>"
      ]
     },
     "metadata": {},
     "output_type": "display_data"
    }
   ],
   "source": [
    "qubit_cr.description()"
   ]
  },
  {
   "cell_type": "code",
   "execution_count": 7,
   "id": "e28cd9e7-84bd-487c-a614-6ccdb6913e11",
   "metadata": {
    "tags": []
   },
   "outputs": [
    {
     "data": {
      "text/latex": [
       "$\\hat{H} =~\\omega_1\\hat a^\\dagger_1\\hat a_1~+~E_{C_{22}}(\\hat{n}_2-n_{g_{2}})^2~+~E_{C_{23}}(\\hat{n}_2-n_{g_{2}})(\\hat{n}_3-n_{g_{3}})~+~E_{C_{24}}(\\hat{n}_2-n_{g_{2}})(\\hat{n}_4-n_{g_{4}})~+~E_{C_{33}}(\\hat{n}_3-n_{g_{3}})^2~+~E_{C_{34}}(\\hat{n}_3-n_{g_{3}})(\\hat{n}_4-n_{g_{4}})~+~E_{C_{44}}(\\hat{n}_4-n_{g_{4}})^2~+~E_{L_{1}}()(\\varphi_{\\text{ext}_{2}})~+~E_{J_{1}}\\cos(\\hat{\\varphi}_2+0.25\\varphi_{\\text{ext}_{1}})~+~E_{J_{2}}\\cos(\\hat{\\varphi}_3-0.25\\varphi_{\\text{ext}_{1}})~+~E_{J_{3}}\\cos(\\hat{\\varphi}_4-0.25\\varphi_{\\text{ext}_{1}})~+~E_{J_{4}}\\cos(\\hat{\\varphi}_2-\\hat{\\varphi}_3-\\hat{\\varphi}_4-0.25\\varphi_{\\text{ext}_{1}})~$"
      ],
      "text/plain": [
       "<IPython.core.display.Latex object>"
      ]
     },
     "metadata": {},
     "output_type": "display_data"
    },
    {
     "data": {
      "text/latex": [
       "$------------------------------------------------------------$"
      ],
      "text/plain": [
       "<IPython.core.display.Latex object>"
      ]
     },
     "metadata": {},
     "output_type": "display_data"
    },
    {
     "data": {
      "text/latex": [
       "$\\text{mode}~1:~~~~~~~~~~~\\text{harmonic}~~~~~~~~~~~\\hat{\\varphi}_1~=~\\varphi_{zp_{1}}(\\hat a_1+\\hat a^\\dagger_1)~~~~~~~~~~~\\omega_1/2\\pi~=~5.03292~~~~~~~~~~~\\varphi_{zp_{1}}~=~3.92e-01$"
      ],
      "text/plain": [
       "<IPython.core.display.Latex object>"
      ]
     },
     "metadata": {},
     "output_type": "display_data"
    },
    {
     "data": {
      "text/latex": [
       "$\\text{mode}~2:~~~~~~~~~~~\\text{charge}~~~~~~~~~~~~~~~~n_{g_{2}}~=~0$"
      ],
      "text/plain": [
       "<IPython.core.display.Latex object>"
      ]
     },
     "metadata": {},
     "output_type": "display_data"
    },
    {
     "data": {
      "text/latex": [
       "$\\text{mode}~3:~~~~~~~~~~~\\text{charge}~~~~~~~~~~~~~~~~n_{g_{3}}~=~0$"
      ],
      "text/plain": [
       "<IPython.core.display.Latex object>"
      ]
     },
     "metadata": {},
     "output_type": "display_data"
    },
    {
     "data": {
      "text/latex": [
       "$\\text{mode}~4:~~~~~~~~~~~\\text{charge}~~~~~~~~~~~~~~~~n_{g_{4}}~=~0$"
      ],
      "text/plain": [
       "<IPython.core.display.Latex object>"
      ]
     },
     "metadata": {},
     "output_type": "display_data"
    },
    {
     "data": {
      "text/latex": [
       "$------------------------------------------------------------$"
      ],
      "text/plain": [
       "<IPython.core.display.Latex object>"
      ]
     },
     "metadata": {},
     "output_type": "display_data"
    },
    {
     "data": {
      "text/latex": [
       "$\\text{parameters}:~~~~~~~~~~~E_{C_{22}}~=~15.565~~~~~~~~~~~E_{C_{23}}~=~6.918~~~~~~~~~~~E_{C_{24}}~=~6.918~~~~~~~~~~~E_{C_{33}}~=~8.302~~~~~~~~~~~E_{C_{34}}~=~-2.767~~~~~~~~~~~E_{C_{44}}~=~8.302~~~~~~~~~~~E_{L_{1}}~=~16.346~~~~~~~~~~~E_{J_{1}}~=~48.4~~~~~~~~~~~E_{J_{2}}~=~121.0~~~~~~~~~~~E_{J_{3}}~=~121.0~~~~~~~~~~~E_{J_{4}}~=~48.4~~~~~~~~~~~$"
      ],
      "text/plain": [
       "<IPython.core.display.Latex object>"
      ]
     },
     "metadata": {},
     "output_type": "display_data"
    },
    {
     "data": {
      "text/latex": [
       "$\\text{loops}:~~~~~~~~~~~~~~~~~~~~\\varphi_{\\text{ext}_{1}}/2\\pi~=~0.0~~~~~~~~~~~\\varphi_{\\text{ext}_{2}}/2\\pi~=~0.0~~~~~~~~~~~$"
      ],
      "text/plain": [
       "<IPython.core.display.Latex object>"
      ]
     },
     "metadata": {},
     "output_type": "display_data"
    }
   ],
   "source": [
    "cr.description()"
   ]
  },
  {
   "cell_type": "code",
   "execution_count": 8,
   "id": "99c1dbc0-1641-4a69-9132-2a61f16f264e",
   "metadata": {},
   "outputs": [],
   "source": [
    "# Set truncation numbers, desired eigenvalues, and flux sweep\n",
    "n1 = 10 # harmonic\n",
    "n2 = 10 # charge\n",
    "n3 = 10 # charge\n",
    "n4 = 10 # charge\n",
    "\n",
    "ng = 0.25\n",
    "\n",
    "qubit_cr.set_trunc_nums([n2, n3, n4])\n",
    "cr.set_trunc_nums([n1, n2, n3, n4])\n",
    "\n",
    "qubit_cr.set_charge_offset(1, ng)\n",
    "cr.set_charge_offset(2, ng)"
   ]
  },
  {
   "cell_type": "code",
   "execution_count": 9,
   "id": "51b4c143-e497-4e75-b277-244086bcd630",
   "metadata": {},
   "outputs": [],
   "source": [
    "qubit_cr_evals, qubit_cr_evecs = qubit_cr.diag(2)\n",
    "\n",
    "qubit_0 = qubit_cr_evecs[0]\n",
    "qubit_1 = qubit_cr_evecs[1]\n",
    "qubit_m = 2**-0.5 * (qubit_0 - qubit_1)\n",
    "qubit_p = 2**-0.5 * (qubit_0 + qubit_1)\n",
    "\n",
    "fock_0 = qt.basis(n1, 0)\n",
    "fock_1 = qt.basis(n1, 1)\n",
    "fock_m = 2**-0.5 * (fock_0 - fock_1)\n",
    "fock_p = 2**-0.5 * (fock_0 + fock_1)\n",
    "\n",
    "ket_00 = qt.tensor(fock_0, qubit_0)\n",
    "ket_01 = qt.tensor(fock_1, qubit_0)\n",
    "ket_10 = qt.tensor(fock_0, qubit_1)\n",
    "ket_11 = qt.tensor(fock_1, qubit_1)\n",
    "ket_0m = qt.tensor(fock_m, qubit_0)\n",
    "ket_0p = qt.tensor(fock_p, qubit_0)\n",
    "ket_p1 = qt.tensor(fock_1, qubit_p)\n",
    "ket_m0 = qt.tensor(fock_0, qubit_m)"
   ]
  },
  {
   "cell_type": "code",
   "execution_count": 10,
   "id": "7c6ef098-7ee1-4245-bf85-d9b4f6363048",
   "metadata": {},
   "outputs": [
    {
     "name": "stdout",
     "output_type": "stream",
     "text": [
      "g parallel: -0j\n",
      "g perpendicular: 0j\n",
      "delta: (1584091144433.013+2977491548324.536j)\n",
      "omega: (762339978113.8698+1432910505030.5635j)\n"
     ]
    }
   ],
   "source": [
    "circuit_H = cr.hamiltonian()\n",
    "\n",
    "g_parr = -1j * circuit_H.matrix_element(ket_p1.conj(), ket_m0)\n",
    "g_perp = circuit_H.matrix_element(ket_11.conj(), ket_00)\n",
    "delta = 2 * circuit_H.matrix_element(ket_00.conj(), ket_00)\n",
    "omega = 2 * circuit_H.matrix_element(ket_01.conj(), ket_01) - 0.5 * delta\n",
    "\n",
    "print(f\"g parallel: {g_parr}\")\n",
    "print(f\"g perpendicular: {g_perp}\")\n",
    "print(f\"delta: {delta}\")\n",
    "print(f\"omega: {omega}\")"
   ]
  },
  {
   "cell_type": "markdown",
   "id": "f15fd1d2-c8ee-428d-a89d-3316fef7a63d",
   "metadata": {},
   "source": [
    "## Plotting"
   ]
  },
  {
   "cell_type": "code",
   "execution_count": 36,
   "id": "2e9e67e4-7ee9-4e69-bcc1-4f37db1ae3ff",
   "metadata": {},
   "outputs": [],
   "source": [
    "def calc_g(Cc_val=8, Cr_val=100, Lr_val=10, EJ_val=121, CJ_val=8, alpha=0.4, flux=0):\n",
    "    # define the circuit elements\n",
    "    Cc = sq.Capacitor(Cc_val, unit='fF')\n",
    "    Cr = sq.Capacitor(Cr_val, unit='fF')\n",
    "    Lr = sq.Inductor(Lr_val, unit='nH', loops=[loop2])\n",
    "    JJ = sq.Junction(EJ_val, 'GHz', loops=[loop1])\n",
    "    alpha_JJ = sq.Junction(alpha * EJ_val, 'GHz', loops=[loop1])\n",
    "    CJ = sq.Capacitor(CJ_val, unit='fF')\n",
    "    alpha_CJ = sq.Capacitor(alpha * CJ_val, unit='fF')\n",
    "\n",
    "    circuit_elements = {\n",
    "        (0, 1): [alpha_JJ, alpha_CJ],\n",
    "        (1, 2): [JJ, CJ],\n",
    "        (2, 3): [JJ, CJ],\n",
    "        (3, 0): [alpha_JJ, alpha_CJ],\n",
    "        (0, 4): [Cc],\n",
    "        (4, 4): [Lr, Cr],\n",
    "    }\n",
    "\n",
    "    cr = sq.Circuit(circuit_elements, flux_dist='all')\n",
    "\n",
    "    # Set truncation numbers, desired eigenvalues, and flux sweep\n",
    "    n1 = 10 # harmonic\n",
    "    n2 = 10 # charge\n",
    "    n3 = 10 # charge\n",
    "    n4 = 10 # charge\n",
    "\n",
    "    ng = 0.25\n",
    "\n",
    "    cr.set_trunc_nums([n1, n2, n3, n4])\n",
    "\n",
    "    cr.set_charge_offset(2, ng)\n",
    "\n",
    "    circuit_H = cr.hamiltonian()\n",
    "\n",
    "    circuit_H_qubit = circuit_H.ptrace([1, 2, 3])\n",
    "\n",
    "    qubit_evals, qubit_evecs = sp.sparse.linalg.eigsh(circuit_H_qubit.data, 2)\n",
    "    qubit_evecs = qubit_evecs.T\n",
    "\n",
    "    qubit_0 = qubit_evecs[0]\n",
    "    qubit_1 = qubit_evecs[1]\n",
    "    qubit_m = 2**-0.5 * (qubit_0 - qubit_1)\n",
    "    qubit_p = 2**-0.5 * (qubit_0 + qubit_1)\n",
    "\n",
    "    g_parr = qubit_p.conj() @ circuit_H_qubit.data @ qubit_m\n",
    "    g_perp = qubit_1.conj() @ circuit_H_qubit.data @ qubit_0\n",
    "\n",
    "    print(f\"g parallel: {g_parr}\")\n",
    "    print(f\"g perpendicular: {g_perp}\")\n",
    "    \n",
    "    return g_parr, g_perp"
   ]
  },
  {
   "cell_type": "code",
   "execution_count": 37,
   "id": "c047c63f-6774-4052-a49c-7ce7ec60fffc",
   "metadata": {},
   "outputs": [
    {
     "name": "stderr",
     "output_type": "stream",
     "text": [
      "  9%|████                                        | 1/11 [00:06<01:05,  6.53s/it]"
     ]
    },
    {
     "name": "stdout",
     "output_type": "stream",
     "text": [
      "g parallel: (6176574792327.344+0.03125j)\n",
      "g perpendicular: (1.7599449114960635+0.011976095021381639j)\n"
     ]
    },
    {
     "name": "stderr",
     "output_type": "stream",
     "text": [
      " 18%|████████                                    | 2/11 [00:11<00:51,  5.67s/it]"
     ]
    },
    {
     "name": "stdout",
     "output_type": "stream",
     "text": [
      "g parallel: (6176574792327.234-0.0859375j)\n",
      "g perpendicular: (0.34404387908850254-0.05370261780410601j)\n"
     ]
    },
    {
     "name": "stderr",
     "output_type": "stream",
     "text": [
      " 27%|████████████                                | 3/11 [00:16<00:42,  5.35s/it]"
     ]
    },
    {
     "name": "stdout",
     "output_type": "stream",
     "text": [
      "g parallel: (6176574792326.336+0.0625j)\n",
      "g perpendicular: (1.1585243739053794+0.0341639151953359j)\n"
     ]
    },
    {
     "name": "stderr",
     "output_type": "stream",
     "text": [
      " 36%|████████████████                            | 4/11 [00:21<00:36,  5.18s/it]"
     ]
    },
    {
     "name": "stdout",
     "output_type": "stream",
     "text": [
      "g parallel: (6176574792326.227-0.03125j)\n",
      "g perpendicular: (0.5280618374223423-0.015448118326602867j)\n"
     ]
    },
    {
     "name": "stderr",
     "output_type": "stream",
     "text": [
      " 45%|████████████████████                        | 5/11 [00:26<00:30,  5.08s/it]"
     ]
    },
    {
     "name": "stdout",
     "output_type": "stream",
     "text": [
      "g parallel: (6176574792327.711-0.00390625j)\n",
      "g perpendicular: (1.0111864296255817+0.020303272416924756j)\n"
     ]
    },
    {
     "name": "stderr",
     "output_type": "stream",
     "text": [
      " 55%|████████████████████████                    | 6/11 [00:31<00:25,  5.02s/it]"
     ]
    },
    {
     "name": "stdout",
     "output_type": "stream",
     "text": [
      "g parallel: (6176574792326.081+0.01171875j)\n",
      "g perpendicular: (0.3051839120089702+0.010812470736299318j)\n"
     ]
    },
    {
     "name": "stderr",
     "output_type": "stream",
     "text": [
      " 64%|████████████████████████████                | 7/11 [00:36<00:19,  4.93s/it]"
     ]
    },
    {
     "name": "stdout",
     "output_type": "stream",
     "text": [
      "g parallel: (6176574792327.5625-0.0234375j)\n",
      "g perpendicular: (0.11538871805817053-0.036519628504507295j)\n"
     ]
    },
    {
     "name": "stderr",
     "output_type": "stream",
     "text": [
      " 73%|████████████████████████████████            | 8/11 [00:40<00:14,  4.87s/it]"
     ]
    },
    {
     "name": "stdout",
     "output_type": "stream",
     "text": [
      "g parallel: (6176574792326.662+0.015625j)\n",
      "g perpendicular: (1.5609233796196804+0.028067980793025527j)\n"
     ]
    },
    {
     "name": "stderr",
     "output_type": "stream",
     "text": [
      " 82%|████████████████████████████████████        | 9/11 [00:45<00:09,  4.84s/it]"
     ]
    },
    {
     "name": "stdout",
     "output_type": "stream",
     "text": [
      "g parallel: (6176574792325.969-0.0703125j)\n",
      "g perpendicular: (0.1405185517968084-0.06742965451905647j)\n"
     ]
    },
    {
     "name": "stderr",
     "output_type": "stream",
     "text": [
      " 91%|███████████████████████████████████████    | 10/11 [00:50<00:04,  4.81s/it]"
     ]
    },
    {
     "name": "stdout",
     "output_type": "stream",
     "text": [
      "g parallel: (6176574792327.539+0.0078125j)\n",
      "g perpendicular: (-0.0057161491992872016-0.02174308380472212j)\n"
     ]
    },
    {
     "name": "stderr",
     "output_type": "stream",
     "text": [
      "100%|███████████████████████████████████████████| 11/11 [00:55<00:00,  5.02s/it]"
     ]
    },
    {
     "name": "stdout",
     "output_type": "stream",
     "text": [
      "g parallel: (6176574792327.037+0.01318359375j)\n",
      "g perpendicular: (1.1509349351874656+0.01817935765142753j)\n"
     ]
    },
    {
     "name": "stderr",
     "output_type": "stream",
     "text": [
      "\n"
     ]
    }
   ],
   "source": [
    "Ccs = [val for val in range(11)]\n",
    "g_parrs = []\n",
    "\n",
    "for Cc in tqdm(Ccs):\n",
    "    g_parr, g_perp = calc_g(Cc_val=Cc)\n",
    "    g_parrs.append(g_parr)"
   ]
  },
  {
   "cell_type": "code",
   "execution_count": 40,
   "id": "d501d4a7-939a-4485-be0b-94652e31b1df",
   "metadata": {},
   "outputs": [
    {
     "data": {
      "text/plain": [
       "[<matplotlib.lines.Line2D at 0x7fd9c89dda60>]"
      ]
     },
     "execution_count": 40,
     "metadata": {},
     "output_type": "execute_result"
    },
    {
     "data": {
      "image/png": "[encoded data removed]",
      "text/plain": [
       "<Figure size 576x576 with 1 Axes>"
      ]
     },
     "metadata": {
      "needs_background": "light"
     },
     "output_type": "display_data"
    }
   ],
   "source": [
    "plt.figure(figsize=(8, 8))\n",
    "\n",
    "plt.title('Full Hamiltonnian Result')\n",
    "plt.xlabel('Cc')\n",
    "plt.ylabel('g_|| / h (MHz)')\n",
    "plt.plot(Ccs, [np.real(g_parr * 1e-6) / h for g_parr in g_parrs])"
   ]
  },
  {
   "cell_type": "code",
   "execution_count": null,
   "id": "9f285635-2eb6-4d1c-8c02-4a32c6644bb1",
   "metadata": {},
   "outputs": [],
   "source": []
  }
 ],
 "metadata": {
  "kernelspec": {
   "display_name": "Python [conda env:py39] *",
   "language": "python",
   "name": "conda-env-py39-py"
  },
  "language_info": {
   "codemirror_mode": {
    "name": "ipython",
    "version": 3
   },
   "file_extension": ".py",
   "mimetype": "text/x-python",
   "name": "python",
   "nbconvert_exporter": "python",
   "pygments_lexer": "ipython3",
   "version": "3.9.7"
  }
 },
 "nbformat": 4,
 "nbformat_minor": 5
}
