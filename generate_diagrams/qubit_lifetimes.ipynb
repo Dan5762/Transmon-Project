{
 "cells": [
  {
   "cell_type": "markdown",
   "id": "01007d9f-2fd3-4565-8478-778635049cdf",
   "metadata": {},
   "source": [
    "## Qubit Lifetimes"
   ]
  },
  {
   "cell_type": "code",
   "execution_count": 121,
   "id": "4a7da4d1-79fb-41e2-a713-dd3148cd6250",
   "metadata": {},
   "outputs": [
    {
     "name": "stdout",
     "output_type": "stream",
     "text": [
      "[(('Cooper-pair box', 'o'), 'T_1'), (('Cooper-pair box', 'o'), 'T_2'), (('Flux qubit', '^'), 'T_1'), (('Flux qubit', '^'), 'T_2'), (('Transmon', 's'), 'T_1'), (('Transmon', 's'), 'T_2')]\n"
     ]
    }
   ],
   "source": [
    "import itertools\n",
    "\n",
    "import matplotlib.pyplot as plt\n",
    "import matplotlib.lines as mlines\n",
    "from matplotlib.ticker import MaxNLocator\n",
    "from adjustText import adjust_text\n",
    "\n",
    "plt.style.use('science')\n",
    "\n",
    "print([val for val in itertools.product(markers.items(), ['T_1', 'T_2'])])"
   ]
  },
  {
   "cell_type": "code",
   "execution_count": 122,
   "id": "61dde573-d61f-4d3a-a11e-bd214539988c",
   "metadata": {},
   "outputs": [],
   "source": [
    "data = {\n",
    "    'Cooper-pair box': [\n",
    "        {'year': 1999, 'T1': 10**-2.6},\n",
    "        {'year': 2001, 'T1': 10**-2, 'T2': 10**-2.3}\n",
    "    ],\n",
    "    'Flux qubit': [\n",
    "        {'year':  2003, 'T1': 1, 'T2': 10**-1.8},\n",
    "        {'year':  2005, 'T1': 10**0.6, 'T2': 10**0.5},\n",
    "        {'year':  2010, 'T1': 10**1.1, 'T2': 10**1.2},\n",
    "        {'year':  2015, 'T1': 10**1.1, 'T2': 10**2}\n",
    "    ],\n",
    "    'Transmon': [\n",
    "        {'year': 2008, 'T1': 10**0.58, 'T2': 10**0.45},\n",
    "        {'year': 2013, 'T1': 10**1.5, 'T2': 10**1.6},\n",
    "        {'year': 2020, 'T1': 200, 'T2': 250},\n",
    "    ],\n",
    "}\n",
    "\n",
    "markers = {\n",
    "    'Cooper-pair box': 'o',\n",
    "    'Flux qubit': '^',\n",
    "    'Transmon': 's',\n",
    "}\n",
    "\n",
    "colours = {'T_1': 'r', 'T_2': 'b'}\n",
    "\n",
    "handles = [mlines.Line2D([], [], color=colours[T], marker=val, linestyle='None', markersize=8, label=f'{key} ${T}$ time') for (key, val), T in itertools.product(markers.items(), ['T_1', 'T_2'])]"
   ]
  },
  {
   "cell_type": "code",
   "execution_count": 124,
   "id": "95039321-91ee-41ed-81ed-c2138f5c20b0",
   "metadata": {},
   "outputs": [
    {
     "data": {
      "image/png": "[encoded data removed]",
      "text/plain": [
       "<Figure size 432x288 with 1 Axes>"
      ]
     },
     "metadata": {
      "needs_background": "light"
     },
     "output_type": "display_data"
    }
   ],
   "source": [
    "fig, ax = plt.subplots(figsize=(6,4))\n",
    "\n",
    "texts = []\n",
    "\n",
    "for qubit_name, qubit_datas in data.items():\n",
    "    \n",
    "    for qubit_data in qubit_datas:\n",
    "        if 'T1' in qubit_data.keys():\n",
    "            plt.plot(qubit_data['year'], qubit_data['T1'], 'r', marker=markers[qubit_name], markersize=8, alpha=0.6, markeredgewidth=0.0)\n",
    "        if 'T2' in qubit_data.keys():\n",
    "            plt.plot(qubit_data['year'], qubit_data['T2'], 'b', marker=markers[qubit_name], markersize=8, alpha=0.6, markeredgewidth=0.0)\n",
    "            plt.plot([qubit_data['year'], qubit_data['year']], [qubit_data['T1'], qubit_data['T2']], 'k--', linewidth=0.5)\n",
    "        \n",
    "ax.set_yscale('log')\n",
    "ax.set_ylabel('Lifetime ($\\mu$s)')\n",
    "ax.set_xlabel('Year')\n",
    "ax.xaxis.set_major_locator(MaxNLocator(integer=True))\n",
    "ax.legend(handles=handles)\n",
    "plt.savefig('../figures/General/lifetimes.png', dpi=300)"
   ]
  },
  {
   "cell_type": "code",
   "execution_count": null,
   "id": "522fbcfb-71d1-4ad2-9150-bfbe43b54041",
   "metadata": {},
   "outputs": [],
   "source": []
  }
 ],
 "metadata": {
  "kernelspec": {
   "display_name": "Python [conda env:py39] *",
   "language": "python",
   "name": "conda-env-py39-py"
  },
  "language_info": {
   "codemirror_mode": {
    "name": "ipython",
    "version": 3
   },
   "file_extension": ".py",
   "mimetype": "text/x-python",
   "name": "python",
   "nbconvert_exporter": "python",
   "pygments_lexer": "ipython3",
   "version": "3.9.7"
  }
 },
 "nbformat": 4,
 "nbformat_minor": 5
}
