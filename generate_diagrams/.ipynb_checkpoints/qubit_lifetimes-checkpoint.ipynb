{
 "cells": [
  {
   "cell_type": "markdown",
   "id": "01007d9f-2fd3-4565-8478-778635049cdf",
   "metadata": {},
   "source": [
    "## Qubit Lifetimes"
   ]
  },
  {
   "cell_type": "code",
   "execution_count": 18,
   "id": "4a7da4d1-79fb-41e2-a713-dd3148cd6250",
   "metadata": {},
   "outputs": [],
   "source": [
    "import matplotlib.pyplot as plt\n",
    "from matplotlib.ticker import MaxNLocator\n",
    "\n"
   ]
  },
  {
   "cell_type": "code",
   "execution_count": 68,
   "id": "61dde573-d61f-4d3a-a11e-bd214539988c",
   "metadata": {},
   "outputs": [],
   "source": [
    "data = {\n",
    "    'Cooper-pair box': [\n",
    "        {'year': 1999, 'T1': 10**-2.6},\n",
    "        {'year': 2001, 'T1': 10**-2, 'T2': 10**-2.3}\n",
    "    ],\n",
    "    'Flux qubit': [\n",
    "        {'year':  2003, 'T1': 1, 'T2': 10**-1.8},\n",
    "        {'year':  2005, 'T1': 10**0.6, 'T2': 10**0.5},\n",
    "        {'year':  2010, 'T1': 10**1.1, 'T2': 10**1.2},\n",
    "        {'year':  2015, 'T1': 10**1.1, 'T2': 10**2}\n",
    "    ],\n",
    "    'Transmon': [\n",
    "        {'year': 2008, 'T1': 10**0.58, 'T2': 10**0.45},\n",
    "        {'year': 2013, 'T1': 10**1.5, 'T2': 10**1.6},\n",
    "        {'year': 2020, 'T1': 200, 'T2': 250},\n",
    "    ],\n",
    "    'Fluxonium': [\n",
    "        {'year':  2021, 'T1': 120, 'T2': 116},\n",
    "    ],\n",
    "}"
   ]
  },
  {
   "cell_type": "code",
   "execution_count": 71,
   "id": "95039321-91ee-41ed-81ed-c2138f5c20b0",
   "metadata": {},
   "outputs": [
    {
     "data": {
      "image/png": "[encoded data removed]",
      "text/plain": [
       "<Figure size 432x288 with 1 Axes>"
      ]
     },
     "metadata": {
      "needs_background": "light"
     },
     "output_type": "display_data"
    }
   ],
   "source": [
    "fig, ax = plt.subplots()\n",
    "\n",
    "for qubit_name, qubit_datas in data.items():\n",
    "    for qubit_data in qubit_datas:\n",
    "        if 'T1' in qubit_data.keys():\n",
    "            plt.plot(qubit_data['year'], qubit_data['T1'], 'r.', markersize=12, alpha=0.6)\n",
    "        if 'T2' in qubit_data.keys():\n",
    "            plt.plot(qubit_data['year'], qubit_data['T2'], 'b.', markersize=12, alpha=0.6)\n",
    "            plt.plot([qubit_data['year'], qubit_data['year']], [qubit_data['T1'], qubit_data['T2']], 'k--', linewidth=0.5)\n",
    "        \n",
    "        plt.annotate(qubit_name,\n",
    "                 (qubit_data['year'], qubit_data['T1']),\n",
    "                 textcoords=\"offset points\",\n",
    "                 xytext=(0,10),\n",
    "                 ha='center')\n",
    "        \n",
    "ax.set_yscale('log')\n",
    "ax.set_ylabel('Lifetime (microseconds)')\n",
    "ax.set_xlabel('Year')\n",
    "ax.xaxis.set_major_locator(MaxNLocator(integer=True))"
   ]
  },
  {
   "cell_type": "code",
   "execution_count": null,
   "id": "118a8bc2-a0d1-47c8-b7b2-792a966c7faf",
   "metadata": {},
   "outputs": [],
   "source": []
  },
  {
   "cell_type": "code",
   "execution_count": null,
   "id": "b6378862-bea5-42e2-8d61-c7e41e8ea8a5",
   "metadata": {},
   "outputs": [],
   "source": []
  }
 ],
 "metadata": {
  "kernelspec": {
   "display_name": "Python [conda env:py39] *",
   "language": "python",
   "name": "conda-env-py39-py"
  },
  "language_info": {
   "codemirror_mode": {
    "name": "ipython",
    "version": 3
   },
   "file_extension": ".py",
   "mimetype": "text/x-python",
   "name": "python",
   "nbconvert_exporter": "python",
   "pygments_lexer": "ipython3",
   "version": "3.9.7"
  }
 },
 "nbformat": 4,
 "nbformat_minor": 5
}
