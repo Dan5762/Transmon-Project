{
 "cells": [
  {
   "cell_type": "markdown",
   "id": "21b32af0-507b-4615-a8de-03c84492bbf8",
   "metadata": {},
   "source": [
    "## Build Four-Junction Flux Qubit"
   ]
  },
  {
   "cell_type": "code",
   "execution_count": 1,
   "id": "729747a6-5953-41f3-9c20-95b8416a7a21",
   "metadata": {},
   "outputs": [],
   "source": [
    "%load_ext autoreload\n",
    "%autoreload 2"
   ]
  },
  {
   "cell_type": "code",
   "execution_count": 2,
   "id": "aa353e25-9089-46d0-bddf-407e0fa87f8c",
   "metadata": {},
   "outputs": [
    {
     "name": "stderr",
     "output_type": "stream",
     "text": [
      "ERROR 1: PROJ: proj_create_from_database: Open of /home/daniel/anaconda3/envs/qiskit-metal/share/proj failed\n",
      "WARNING:py.warnings:/home/daniel/anaconda3/envs/qiskit-metal/lib/python3.10/site-packages/qtpy/__init__.py:267: RuntimeWarning: Selected binding \"pyqt5\" could not be found, using \"pyside2\"\n",
      "  warnings.warn('Selected binding \"{}\" could not be found, '\n",
      "\n"
     ]
    }
   ],
   "source": [
    "from qiskit_metal import designs, draw\n",
    "from qiskit_metal import MetalGUI, Dict\n",
    "\n",
    "design = designs.DesignPlanar()\n",
    "gui = MetalGUI(design)\n",
    "\n",
    "# If you disable the next line, then you will need to delete a component [<component>.delete()] before recreating it.\n",
    "design.overwrite_enabled = True"
   ]
  },
  {
   "cell_type": "code",
   "execution_count": 3,
   "id": "62cea44a-9143-4ab9-8c4e-c105c0edcd4e",
   "metadata": {},
   "outputs": [],
   "source": [
    "from qiskit_metal.qlibrary.qubits.transmon_pocket import TransmonPocket\n",
    "\n",
    "options = dict(\n",
    "    pad_width = '425 um',\n",
    "    pocket_height = '650um',\n",
    "    connection_pads=dict(  # pin connectors\n",
    "        a = dict(loc_W=+1,loc_H=-1),\n",
    "        b = dict(loc_W=-1,loc_H=1),\n",
    "        c = dict(loc_W=1,loc_H=1),\n",
    "    )\n",
    ")\n",
    "\n",
    "q0 = TransmonPocket(design, 'Q0', options=dict(pos_x='-1.0mm', pos_y='-1.0mm', **options))\n",
    "q1 = TransmonPocket(design, 'Q1', options=dict(pos_x='-1.0mm', pos_y='+0.0mm', **options))\n",
    "q2 = TransmonPocket(design, 'Q2', options=dict(pos_x='1.0mm', pos_y='0.0mm', **options))\n",
    "q2 = TransmonPocket(design, 'Q3', options=dict(pos_x='1.0mm', pos_y='-1.0mm', **options))\n",
    "\n",
    "gui.rebuild()\n",
    "gui.autoscale()"
   ]
  },
  {
   "cell_type": "code",
   "execution_count": 4,
   "id": "6c1a1f6f-50c9-4ccc-9562-4683dfa40dac",
   "metadata": {},
   "outputs": [
    {
     "data": {
      "text/plain": [
       "{'chip': 'main',\n",
       " 'layer': '1',\n",
       " 'pin_inputs': {'start_pin': {'component': '', 'pin': ''},\n",
       "  'end_pin': {'component': '', 'pin': ''}},\n",
       " 'fillet': '0',\n",
       " 'lead': {'start_straight': '0mm',\n",
       "  'end_straight': '0mm',\n",
       "  'start_jogged_extension': '',\n",
       "  'end_jogged_extension': ''},\n",
       " 'total_length': '7mm',\n",
       " 'trace_width': 'cpw_width',\n",
       " 'anchors': {},\n",
       " 'advanced': {'avoid_collision': 'true'},\n",
       " 'step_size': '0.25mm',\n",
       " 'hfss_wire_bonds': False,\n",
       " 'q3d_wire_bonds': False}"
      ]
     },
     "execution_count": 4,
     "metadata": {},
     "output_type": "execute_result"
    }
   ],
   "source": [
    "from qiskit_metal.qlibrary.tlines.pathfinder import RoutePathfinder\n",
    "RoutePathfinder.get_template_options(design)"
   ]
  },
  {
   "cell_type": "code",
   "execution_count": 5,
   "id": "5eabf931-e32d-4b25-8582-ceec44a01f44",
   "metadata": {},
   "outputs": [],
   "source": [
    "ops=dict(fillet='90um')"
   ]
  },
  {
   "cell_type": "code",
   "execution_count": 9,
   "id": "29909739-d1dd-4b25-9196-5fa4f9416996",
   "metadata": {},
   "outputs": [],
   "source": [
    "base_line_options = {\n",
    "    'lead': {\n",
    "        'start_straight': '91um',\n",
    "        'end_straight': '90um'\n",
    "    },\n",
    "    'step_size': '0.25mm',\n",
    "    **ops\n",
    "}\n",
    "\n",
    "options_01 = base_line_options.copy()\n",
    "options_01['pin_inputs'] = {\n",
    "    'start_pin': {'component': 'Q0', 'pin': 'a'},\n",
    "    'end_pin': {'component': 'Q1', 'pin': 'b'}\n",
    "}\n",
    "\n",
    "options_12 = base_line_options.copy()\n",
    "options_12['pin_inputs'] = {\n",
    "    'start_pin': {'component': 'Q1', 'pin': 'a'},\n",
    "    'end_pin': {'component': 'Q2', 'pin': 'b'}\n",
    "}\n",
    "\n",
    "options_23 = base_line_options.copy()\n",
    "options_23['pin_inputs'] = {\n",
    "    'start_pin': {'component': 'Q2', 'pin': 'a'},\n",
    "    'end_pin': {'component': 'Q3', 'pin': 'b'}\n",
    "}\n",
    "\n",
    "options_30 = base_line_options.copy()\n",
    "options_30['pin_inputs'] = {\n",
    "    'start_pin': {'component': 'Q3', 'pin': 'a'},\n",
    "    'end_pin': {'component': 'Q0', 'pin': 'b'}\n",
    "}\n",
    "\n",
    "design.delete_component('line01')\n",
    "design.delete_component('line12')\n",
    "design.delete_component('line23')\n",
    "design.delete_component('line30')\n",
    "RoutePathfinder(design, 'line01', options_01)\n",
    "RoutePathfinder(design, 'line12', options_12)\n",
    "RoutePathfinder(design, 'line23', options_23)\n",
    "RoutePathfinder(design, 'line30', options_30)\n",
    "\n",
    "gui.rebuild()\n",
    "gui.autoscale()"
   ]
  },
  {
   "cell_type": "markdown",
   "id": "619494ca-a60d-4881-88d4-a063f3f1b363",
   "metadata": {},
   "source": [
    "## Capcitance Analysis"
   ]
  },
  {
   "cell_type": "code",
   "execution_count": 7,
   "id": "cbf1d5ad-d4fb-4622-8654-5d9c594cf9c7",
   "metadata": {},
   "outputs": [],
   "source": [
    "from qiskit_metal.analyses.quantization import LOManalysis\n",
    "c1 = LOManalysis(design, \"q3d\")"
   ]
  },
  {
   "cell_type": "code",
   "execution_count": 8,
   "id": "61247008-a63a-486d-80fe-b7357b002e84",
   "metadata": {},
   "outputs": [
    {
     "ename": "NameError",
     "evalue": "name 'Dispatch' is not defined",
     "output_type": "error",
     "traceback": [
      "\u001b[0;31m---------------------------------------------------------------------------\u001b[0m",
      "\u001b[0;31mNameError\u001b[0m                                 Traceback (most recent call last)",
      "Cell \u001b[0;32mIn [8], line 1\u001b[0m\n\u001b[0;32m----> 1\u001b[0m c1\u001b[38;5;241m.\u001b[39msim\u001b[38;5;241m.\u001b[39mrun(components\u001b[38;5;241m=\u001b[39m[\u001b[38;5;124m'\u001b[39m\u001b[38;5;124mQ0\u001b[39m\u001b[38;5;124m'\u001b[39m, \u001b[38;5;124m'\u001b[39m\u001b[38;5;124mQ1\u001b[39m\u001b[38;5;124m'\u001b[39m, \u001b[38;5;124m'\u001b[39m\u001b[38;5;124mQ2\u001b[39m\u001b[38;5;124m'\u001b[39m, \u001b[38;5;124m'\u001b[39m\u001b[38;5;124mQ3\u001b[39m\u001b[38;5;124m'\u001b[39m])\n\u001b[1;32m      2\u001b[0m c1\u001b[38;5;241m.\u001b[39msim\u001b[38;5;241m.\u001b[39mcapacitance_matrix\n",
      "File \u001b[0;32m~/anaconda3/envs/qiskit-metal/lib/python3.10/site-packages/qiskit_metal/analyses/core/simulation.py:203\u001b[0m, in \u001b[0;36mQSimulation.run\u001b[0;34m(self, *args, **kwargs)\u001b[0m\n\u001b[1;32m    199\u001b[0m \u001b[38;5;28;01mdef\u001b[39;00m \u001b[38;5;21mrun\u001b[39m(\u001b[38;5;28mself\u001b[39m, \u001b[38;5;241m*\u001b[39margs, \u001b[38;5;241m*\u001b[39m\u001b[38;5;241m*\u001b[39mkwargs):\n\u001b[1;32m    200\u001b[0m     \u001b[38;5;124;03m\"\"\"Alias for run_sim() necessary to implement super-class method, while\u001b[39;00m\n\u001b[1;32m    201\u001b[0m \u001b[38;5;124;03m    preventing method name collision when sim and non-sim QAnalysis classes are inherited.\u001b[39;00m\n\u001b[1;32m    202\u001b[0m \u001b[38;5;124;03m    \"\"\"\u001b[39;00m\n\u001b[0;32m--> 203\u001b[0m     \u001b[38;5;28;43mself\u001b[39;49m\u001b[38;5;241;43m.\u001b[39;49m\u001b[43mrun_sim\u001b[49m\u001b[43m(\u001b[49m\u001b[38;5;241;43m*\u001b[39;49m\u001b[43margs\u001b[49m\u001b[43m,\u001b[49m\u001b[43m \u001b[49m\u001b[38;5;241;43m*\u001b[39;49m\u001b[38;5;241;43m*\u001b[39;49m\u001b[43mkwargs\u001b[49m\u001b[43m)\u001b[49m\n",
      "File \u001b[0;32m~/anaconda3/envs/qiskit-metal/lib/python3.10/site-packages/qiskit_metal/analyses/simulation/lumped_elements.py:137\u001b[0m, in \u001b[0;36mLumpedElementsSim.run_sim\u001b[0;34m(self, name, components, open_terminations, box_plus_buffer)\u001b[0m\n\u001b[1;32m    134\u001b[0m \u001b[38;5;28mself\u001b[39m\u001b[38;5;241m.\u001b[39mclear_data()\n\u001b[1;32m    136\u001b[0m \u001b[38;5;28;01mif\u001b[39;00m \u001b[38;5;129;01mnot\u001b[39;00m \u001b[38;5;28mself\u001b[39m\u001b[38;5;241m.\u001b[39mrenderer_initialized:\n\u001b[0;32m--> 137\u001b[0m     \u001b[38;5;28;43mself\u001b[39;49m\u001b[38;5;241;43m.\u001b[39;49m\u001b[43m_initialize_renderer\u001b[49m\u001b[43m(\u001b[49m\u001b[43m)\u001b[49m\n\u001b[1;32m    139\u001b[0m renderer_design_name \u001b[38;5;241m=\u001b[39m \u001b[38;5;28mself\u001b[39m\u001b[38;5;241m.\u001b[39m_render(name\u001b[38;5;241m=\u001b[39mname,\n\u001b[1;32m    140\u001b[0m                                     solution_type\u001b[38;5;241m=\u001b[39m\u001b[38;5;124m'\u001b[39m\u001b[38;5;124mcapacitive\u001b[39m\u001b[38;5;124m'\u001b[39m,\n\u001b[1;32m    141\u001b[0m                                     selection\u001b[38;5;241m=\u001b[39mcomponents,\n\u001b[1;32m    142\u001b[0m                                     open_pins\u001b[38;5;241m=\u001b[39mopen_terminations,\n\u001b[1;32m    143\u001b[0m                                     box_plus_buffer\u001b[38;5;241m=\u001b[39mbox_plus_buffer,\n\u001b[1;32m    144\u001b[0m                                     vars_to_initialize\u001b[38;5;241m=\u001b[39mDict())\n\u001b[1;32m    146\u001b[0m \u001b[38;5;28mself\u001b[39m\u001b[38;5;241m.\u001b[39m_analyze()\n",
      "File \u001b[0;32m~/anaconda3/envs/qiskit-metal/lib/python3.10/site-packages/qiskit_metal/analyses/core/simulation.py:141\u001b[0m, in \u001b[0;36mQSimulation._initialize_renderer\u001b[0;34m(self)\u001b[0m\n\u001b[1;32m    138\u001b[0m \u001b[38;5;28;01mdef\u001b[39;00m \u001b[38;5;21m_initialize_renderer\u001b[39m(\u001b[38;5;28mself\u001b[39m):\n\u001b[1;32m    139\u001b[0m     \u001b[38;5;124;03m\"\"\"Starts the renderer by executing the routine of the selected renderer.\u001b[39;00m\n\u001b[1;32m    140\u001b[0m \u001b[38;5;124;03m    \"\"\"\u001b[39;00m\n\u001b[0;32m--> 141\u001b[0m     \u001b[38;5;28;43mself\u001b[39;49m\u001b[38;5;241;43m.\u001b[39;49m\u001b[43mrenderer\u001b[49m\u001b[38;5;241;43m.\u001b[39;49m\u001b[43mstart\u001b[49m\u001b[43m(\u001b[49m\u001b[43m)\u001b[49m\n",
      "File \u001b[0;32m~/anaconda3/envs/qiskit-metal/lib/python3.10/site-packages/qiskit_metal/renderers/renderer_base/renderer_base.py:378\u001b[0m, in \u001b[0;36mQRenderer.start\u001b[0;34m(self, force)\u001b[0m\n\u001b[1;32m    373\u001b[0m         \u001b[38;5;28mself\u001b[39m\u001b[38;5;241m.\u001b[39m_close_renderer()\n\u001b[1;32m    375\u001b[0m \u001b[38;5;66;03m# TODO: move the code line below to inside the `if force or not initiated`,\u001b[39;00m\n\u001b[1;32m    376\u001b[0m \u001b[38;5;66;03m#  but only after the TODO before the `if` is completed\u001b[39;00m\n\u001b[1;32m    377\u001b[0m \u001b[38;5;66;03m# try to initialize the renderer\u001b[39;00m\n\u001b[0;32m--> 378\u001b[0m \u001b[38;5;28mself\u001b[39m\u001b[38;5;241m.\u001b[39minitiated \u001b[38;5;241m=\u001b[39m \u001b[38;5;28;43mself\u001b[39;49m\u001b[38;5;241;43m.\u001b[39;49m\u001b[43m_initiate_renderer\u001b[49m\u001b[43m(\u001b[49m\u001b[43m)\u001b[49m\n\u001b[1;32m    380\u001b[0m \u001b[38;5;28;01mreturn\u001b[39;00m \u001b[38;5;28mself\u001b[39m\u001b[38;5;241m.\u001b[39minitiated\n",
      "File \u001b[0;32m~/anaconda3/envs/qiskit-metal/lib/python3.10/site-packages/qiskit_metal/renderers/renderer_ansys/ansys_renderer.py:302\u001b[0m, in \u001b[0;36mQAnsysRenderer._initiate_renderer\u001b[0;34m(self)\u001b[0m\n\u001b[1;32m    286\u001b[0m \u001b[38;5;124;03m\"\"\"\u001b[39;00m\n\u001b[1;32m    287\u001b[0m \u001b[38;5;124;03mOpen a session of the default Ansys EDT.\u001b[39;00m\n\u001b[1;32m    288\u001b[0m \u001b[38;5;124;03mEstablishes the connection to the App and Desktop only.\u001b[39;00m\n\u001b[1;32m    289\u001b[0m \u001b[38;5;124;03m\"\"\"\u001b[39;00m\n\u001b[1;32m    290\u001b[0m \u001b[38;5;66;03m# test if ansys is open\u001b[39;00m\n\u001b[1;32m    291\u001b[0m \u001b[38;5;66;03m# import psutil\u001b[39;00m\n\u001b[1;32m    292\u001b[0m \u001b[38;5;66;03m# booted = False\u001b[39;00m\n\u001b[0;32m   (...)\u001b[0m\n\u001b[1;32m    299\u001b[0m \u001b[38;5;66;03m# need to make it so that it waits for the Ansys boot to end\u001b[39;00m\n\u001b[1;32m    300\u001b[0m \u001b[38;5;66;03m# after opening, should establish a connection (able to create a new project)\u001b[39;00m\n\u001b[0;32m--> 302\u001b[0m \u001b[38;5;28mself\u001b[39m\u001b[38;5;241m.\u001b[39mrapp \u001b[38;5;241m=\u001b[39m \u001b[43mHfssApp\u001b[49m\u001b[43m(\u001b[49m\u001b[43m)\u001b[49m\n\u001b[1;32m    303\u001b[0m \u001b[38;5;28mself\u001b[39m\u001b[38;5;241m.\u001b[39mrdesktop \u001b[38;5;241m=\u001b[39m \u001b[38;5;28mself\u001b[39m\u001b[38;5;241m.\u001b[39mrapp\u001b[38;5;241m.\u001b[39mget_app_desktop()\n\u001b[1;32m    304\u001b[0m \u001b[38;5;28;01mif\u001b[39;00m \u001b[38;5;28mself\u001b[39m\u001b[38;5;241m.\u001b[39mrdesktop\u001b[38;5;241m.\u001b[39mproject_count() \u001b[38;5;241m==\u001b[39m \u001b[38;5;241m0\u001b[39m:\n",
      "File \u001b[0;32m~/anaconda3/envs/qiskit-metal/lib/python3.10/site-packages/pyEPR/ansys.py:382\u001b[0m, in \u001b[0;36mHfssApp.__init__\u001b[0;34m(self, ProgID)\u001b[0m\n\u001b[1;32m    371\u001b[0m \u001b[38;5;124;03m'''\u001b[39;00m\n\u001b[1;32m    372\u001b[0m \u001b[38;5;124;03m Connect to IDispatch-based COM object.\u001b[39;00m\n\u001b[1;32m    373\u001b[0m \u001b[38;5;124;03m     Parameter is the ProgID or CLSID of the COM object.\u001b[39;00m\n\u001b[0;32m   (...)\u001b[0m\n\u001b[1;32m    379\u001b[0m \n\u001b[1;32m    380\u001b[0m \u001b[38;5;124;03m'''\u001b[39;00m\n\u001b[1;32m    381\u001b[0m \u001b[38;5;28msuper\u001b[39m(HfssApp, \u001b[38;5;28mself\u001b[39m)\u001b[38;5;241m.\u001b[39m\u001b[38;5;21m__init__\u001b[39m()\n\u001b[0;32m--> 382\u001b[0m \u001b[38;5;28mself\u001b[39m\u001b[38;5;241m.\u001b[39m_app \u001b[38;5;241m=\u001b[39m \u001b[43mDispatch\u001b[49m(ProgID)\n",
      "\u001b[0;31mNameError\u001b[0m: name 'Dispatch' is not defined"
     ]
    }
   ],
   "source": [
    "c1.sim.run(components=['Q0', 'Q1', 'Q2', 'Q3'])\n",
    "c1.sim.capacitance_matrix"
   ]
  },
  {
   "cell_type": "code",
   "execution_count": null,
   "id": "824a6d04-9057-4570-8ac2-76f69fb9e6ea",
   "metadata": {},
   "outputs": [],
   "source": []
  }
 ],
 "metadata": {
  "kernelspec": {
   "display_name": "qiskit-metal",
   "language": "python",
   "name": "qiskit-metal"
  },
  "language_info": {
   "codemirror_mode": {
    "name": "ipython",
    "version": 3
   },
   "file_extension": ".py",
   "mimetype": "text/x-python",
   "name": "python",
   "nbconvert_exporter": "python",
   "pygments_lexer": "ipython3",
   "version": "3.10.6"
  }
 },
 "nbformat": 4,
 "nbformat_minor": 5
}
